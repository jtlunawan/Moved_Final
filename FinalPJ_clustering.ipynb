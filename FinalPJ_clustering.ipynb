{
 "cells": [
  {
   "cell_type": "code",
   "execution_count": 77,
   "metadata": {},
   "outputs": [],
   "source": [
    "import pandas as pd\n",
    "import os\n",
    "from sklearn.preprocessing import MinMaxScaler\n",
    "from sklearn.model_selection import train_test_split\n",
    "import numpy as np\n",
    "from sklearn.cluster import KMeans\n",
    "from scipy.spatial.distance import cdist\n",
    "import matplotlib.pyplot as plt"
   ]
  },
  {
   "cell_type": "code",
   "execution_count": 78,
   "metadata": {},
   "outputs": [],
   "source": [
    "df = pd.read_csv(\"channel_spend_graduate.csv\")"
   ]
  },
  {
   "cell_type": "code",
   "execution_count": 79,
   "metadata": {},
   "outputs": [
    {
     "name": "stderr",
     "output_type": "stream",
     "text": [
      "/Users/wan/opt/anaconda3/lib/python3.8/site-packages/IPython/core/interactiveshell.py:3071: DtypeWarning: Columns (9) have mixed types.Specify dtype option on import or set low_memory=False.\n",
      "  has_raised = await self.run_ast_nodes(code_ast.body, cell_name,\n"
     ]
    }
   ],
   "source": [
    "data_original = pd.read_csv(\"subscribers.csv\")"
   ]
  },
  {
   "cell_type": "code",
   "execution_count": 80,
   "metadata": {},
   "outputs": [],
   "source": [
    "data = data_original[:]"
   ]
  },
  {
   "cell_type": "code",
   "execution_count": 81,
   "metadata": {},
   "outputs": [
    {
     "name": "stdout",
     "output_type": "stream",
     "text": [
      "<class 'pandas.core.frame.DataFrame'>\n",
      "RangeIndex: 218778 entries, 0 to 218777\n",
      "Data columns (total 31 columns):\n",
      " #   Column                        Non-Null Count   Dtype  \n",
      "---  ------                        --------------   -----  \n",
      " 0   Unnamed: 0                    218778 non-null  int64  \n",
      " 1   subid                         218778 non-null  int64  \n",
      " 2   package_type                  183628 non-null  object \n",
      " 3   num_weekly_services_utilized  112599 non-null  float64\n",
      " 4   preferred_genre               182871 non-null  object \n",
      " 5   intended_use                  215665 non-null  object \n",
      " 6   weekly_consumption_hour       182561 non-null  float64\n",
      " 7   num_ideal_streaming_services  111141 non-null  float64\n",
      " 8   age                           184880 non-null  float64\n",
      " 9   male_TF                       218574 non-null  object \n",
      " 10  country                       218778 non-null  object \n",
      " 11  attribution_technical         218778 non-null  object \n",
      " 12  attribution_survey            216575 non-null  object \n",
      " 13  op_sys                        206044 non-null  object \n",
      " 14  months_per_bill_period        218778 non-null  int64  \n",
      " 15  plan_type                     218778 non-null  object \n",
      " 16  monthly_price                 218778 non-null  float64\n",
      " 17  discount_price                218778 non-null  float64\n",
      " 18  account_creation_date         218778 non-null  object \n",
      " 19  trial_end_date                218778 non-null  object \n",
      " 20  initial_credit_card_declined  218778 non-null  bool   \n",
      " 21  join_fee                      185083 non-null  float64\n",
      " 22  language                      218778 non-null  object \n",
      " 23  payment_type                  88449 non-null   object \n",
      " 24  num_trial_days                218778 non-null  int64  \n",
      " 25  current_sub_TF                218778 non-null  bool   \n",
      " 26  payment_period                218778 non-null  int64  \n",
      " 27  last_payment                  132236 non-null  object \n",
      " 28  next_payment                  121400 non-null  object \n",
      " 29  cancel_date                   35936 non-null   object \n",
      " 30  trial_completed               218778 non-null  bool   \n",
      "dtypes: bool(3), float64(7), int64(5), object(16)\n",
      "memory usage: 47.4+ MB\n"
     ]
    }
   ],
   "source": [
    "data.info()"
   ]
  },
  {
   "cell_type": "code",
   "execution_count": 82,
   "metadata": {},
   "outputs": [],
   "source": [
    "del data['language']"
   ]
  },
  {
   "cell_type": "code",
   "execution_count": 83,
   "metadata": {},
   "outputs": [],
   "source": [
    "del data['months_per_bill_period']"
   ]
  },
  {
   "cell_type": "code",
   "execution_count": 84,
   "metadata": {},
   "outputs": [],
   "source": [
    "del data['country']"
   ]
  },
  {
   "cell_type": "code",
   "execution_count": 85,
   "metadata": {},
   "outputs": [],
   "source": [
    "del data['last_payment']"
   ]
  },
  {
   "cell_type": "code",
   "execution_count": 86,
   "metadata": {},
   "outputs": [],
   "source": [
    "del data['next_payment']"
   ]
  },
  {
   "cell_type": "code",
   "execution_count": 87,
   "metadata": {},
   "outputs": [],
   "source": [
    "del data['payment_type']"
   ]
  },
  {
   "cell_type": "code",
   "execution_count": 88,
   "metadata": {},
   "outputs": [],
   "source": [
    "del data['plan_type']"
   ]
  },
  {
   "cell_type": "code",
   "execution_count": 89,
   "metadata": {},
   "outputs": [],
   "source": [
    "del data[\"account_creation_date\"]"
   ]
  },
  {
   "cell_type": "code",
   "execution_count": 90,
   "metadata": {},
   "outputs": [],
   "source": [
    "del data[\"trial_end_date\"]"
   ]
  },
  {
   "cell_type": "code",
   "execution_count": 91,
   "metadata": {},
   "outputs": [],
   "source": [
    "del data[\"Unnamed: 0\"]"
   ]
  },
  {
   "cell_type": "code",
   "execution_count": 92,
   "metadata": {},
   "outputs": [],
   "source": [
    "del data['subid']"
   ]
  },
  {
   "cell_type": "code",
   "execution_count": 93,
   "metadata": {},
   "outputs": [],
   "source": [
    "del data['attribution_technical']"
   ]
  },
  {
   "cell_type": "code",
   "execution_count": 94,
   "metadata": {},
   "outputs": [],
   "source": [
    "del data['attribution_survey']"
   ]
  },
  {
   "cell_type": "code",
   "execution_count": 95,
   "metadata": {},
   "outputs": [],
   "source": [
    "del data['monthly_price']"
   ]
  },
  {
   "cell_type": "code",
   "execution_count": 96,
   "metadata": {},
   "outputs": [
    {
     "name": "stderr",
     "output_type": "stream",
     "text": [
      "<ipython-input-96-f9824bcb5876>:1: SettingWithCopyWarning: \n",
      "A value is trying to be set on a copy of a slice from a DataFrame.\n",
      "Try using .loc[row_indexer,col_indexer] = value instead\n",
      "\n",
      "See the caveats in the documentation: https://pandas.pydata.org/pandas-docs/stable/user_guide/indexing.html#returning-a-view-versus-a-copy\n",
      "  data['cancel_TF'] = False\n"
     ]
    }
   ],
   "source": [
    "data['cancel_TF'] = False"
   ]
  },
  {
   "cell_type": "code",
   "execution_count": 97,
   "metadata": {},
   "outputs": [
    {
     "name": "stderr",
     "output_type": "stream",
     "text": [
      "/Users/wan/opt/anaconda3/lib/python3.8/site-packages/pandas/core/indexing.py:966: SettingWithCopyWarning: \n",
      "A value is trying to be set on a copy of a slice from a DataFrame.\n",
      "Try using .loc[row_indexer,col_indexer] = value instead\n",
      "\n",
      "See the caveats in the documentation: https://pandas.pydata.org/pandas-docs/stable/user_guide/indexing.html#returning-a-view-versus-a-copy\n",
      "  self.obj[item] = s\n"
     ]
    }
   ],
   "source": [
    "data.loc[data['cancel_date'].notnull(),'cancel_TF'] = True"
   ]
  },
  {
   "cell_type": "code",
   "execution_count": 98,
   "metadata": {},
   "outputs": [
    {
     "data": {
      "text/plain": [
       "count     218778\n",
       "unique         2\n",
       "top        False\n",
       "freq      182842\n",
       "Name: cancel_TF, dtype: object"
      ]
     },
     "execution_count": 98,
     "metadata": {},
     "output_type": "execute_result"
    }
   ],
   "source": [
    "data['cancel_TF'].describe()"
   ]
  },
  {
   "cell_type": "code",
   "execution_count": 99,
   "metadata": {},
   "outputs": [],
   "source": [
    "del data['cancel_date']"
   ]
  },
  {
   "cell_type": "code",
   "execution_count": 100,
   "metadata": {},
   "outputs": [
    {
     "name": "stderr",
     "output_type": "stream",
     "text": [
      "/Users/wan/opt/anaconda3/lib/python3.8/site-packages/pandas/core/frame.py:3990: SettingWithCopyWarning: \n",
      "A value is trying to be set on a copy of a slice from a DataFrame\n",
      "\n",
      "See the caveats in the documentation: https://pandas.pydata.org/pandas-docs/stable/user_guide/indexing.html#returning-a-view-versus-a-copy\n",
      "  return super().drop(\n"
     ]
    }
   ],
   "source": [
    "data.drop(data[data['age'] >100].index,inplace=True)"
   ]
  },
  {
   "cell_type": "code",
   "execution_count": 101,
   "metadata": {},
   "outputs": [
    {
     "data": {
      "text/plain": [
       "count    112183.000000\n",
       "mean          3.006587\n",
       "std           0.820060\n",
       "min           0.000000\n",
       "25%           2.000000\n",
       "50%           3.000000\n",
       "75%           3.000000\n",
       "max          14.000000\n",
       "Name: num_weekly_services_utilized, dtype: float64"
      ]
     },
     "execution_count": 101,
     "metadata": {},
     "output_type": "execute_result"
    }
   ],
   "source": [
    "data[\"num_weekly_services_utilized\"].describe()"
   ]
  },
  {
   "cell_type": "code",
   "execution_count": 102,
   "metadata": {},
   "outputs": [],
   "source": [
    "data.loc[data['num_weekly_services_utilized'].isnull(),'num_weekly_services_utilized']= 3"
   ]
  },
  {
   "cell_type": "code",
   "execution_count": 103,
   "metadata": {},
   "outputs": [
    {
     "name": "stdout",
     "output_type": "stream",
     "text": [
      "<class 'pandas.core.frame.DataFrame'>\n",
      "Int64Index: 217890 entries, 0 to 218777\n",
      "Data columns (total 17 columns):\n",
      " #   Column                        Non-Null Count   Dtype  \n",
      "---  ------                        --------------   -----  \n",
      " 0   package_type                  182919 non-null  object \n",
      " 1   num_weekly_services_utilized  217890 non-null  float64\n",
      " 2   preferred_genre               182168 non-null  object \n",
      " 3   intended_use                  214790 non-null  object \n",
      " 4   weekly_consumption_hour       181679 non-null  float64\n",
      " 5   num_ideal_streaming_services  110729 non-null  float64\n",
      " 6   age                           183992 non-null  float64\n",
      " 7   male_TF                       217686 non-null  object \n",
      " 8   op_sys                        205277 non-null  object \n",
      " 9   discount_price                217890 non-null  float64\n",
      " 10  initial_credit_card_declined  217890 non-null  bool   \n",
      " 11  join_fee                      184195 non-null  float64\n",
      " 12  num_trial_days                217890 non-null  int64  \n",
      " 13  current_sub_TF                217890 non-null  bool   \n",
      " 14  payment_period                217890 non-null  int64  \n",
      " 15  trial_completed               217890 non-null  bool   \n",
      " 16  cancel_TF                     217890 non-null  bool   \n",
      "dtypes: bool(4), float64(6), int64(2), object(5)\n",
      "memory usage: 24.1+ MB\n"
     ]
    }
   ],
   "source": [
    "data.info()"
   ]
  },
  {
   "cell_type": "code",
   "execution_count": 104,
   "metadata": {},
   "outputs": [],
   "source": [
    "data.drop(data[data['weekly_consumption_hour'] <0].index,inplace=True)"
   ]
  },
  {
   "cell_type": "code",
   "execution_count": 105,
   "metadata": {},
   "outputs": [],
   "source": [
    "data.loc[data['weekly_consumption_hour'].isnull(),'weekly_consumption_hour']= 28"
   ]
  },
  {
   "cell_type": "code",
   "execution_count": 106,
   "metadata": {},
   "outputs": [],
   "source": [
    "data.drop(data[data['num_ideal_streaming_services'] <0].index,inplace=True)"
   ]
  },
  {
   "cell_type": "code",
   "execution_count": 107,
   "metadata": {},
   "outputs": [],
   "source": [
    "data.loc[data['num_ideal_streaming_services'].isnull(),'num_ideal_streaming_services']= 2"
   ]
  },
  {
   "cell_type": "code",
   "execution_count": 108,
   "metadata": {},
   "outputs": [],
   "source": [
    "data.loc[data['age'].isnull(),'age']= 46"
   ]
  },
  {
   "cell_type": "code",
   "execution_count": 109,
   "metadata": {},
   "outputs": [
    {
     "name": "stderr",
     "output_type": "stream",
     "text": [
      "/Users/wan/opt/anaconda3/lib/python3.8/site-packages/pandas/core/indexing.py:845: SettingWithCopyWarning: \n",
      "A value is trying to be set on a copy of a slice from a DataFrame.\n",
      "Try using .loc[row_indexer,col_indexer] = value instead\n",
      "\n",
      "See the caveats in the documentation: https://pandas.pydata.org/pandas-docs/stable/user_guide/indexing.html#returning-a-view-versus-a-copy\n",
      "  self.obj[key] = _infer_fill_value(value)\n"
     ]
    }
   ],
   "source": [
    "data.loc[data['age']<30,'age_range']= \"young\"\n",
    "data.loc[(data['age']>30) & (data['age']<60),'age_range']= \"middle-aged\"\n",
    "data.loc[data['age']>60,'age_range']= \"old\""
   ]
  },
  {
   "cell_type": "code",
   "execution_count": 110,
   "metadata": {},
   "outputs": [],
   "source": [
    "data.loc[data['join_fee'].isnull(),'join_fee']= 0"
   ]
  },
  {
   "cell_type": "code",
   "execution_count": 111,
   "metadata": {},
   "outputs": [],
   "source": [
    "data = data.dropna()"
   ]
  },
  {
   "cell_type": "code",
   "execution_count": 112,
   "metadata": {},
   "outputs": [],
   "source": [
    "dummies = pd.get_dummies(data['package_type'])\n",
    "data = pd.concat([data, dummies], axis=1)\n",
    "data = data.drop(['package_type'], axis=1)"
   ]
  },
  {
   "cell_type": "code",
   "execution_count": 113,
   "metadata": {},
   "outputs": [],
   "source": [
    "dummies = pd.get_dummies(data['preferred_genre'])\n",
    "data = pd.concat([data, dummies], axis=1)\n",
    "data = data.drop(['preferred_genre'], axis=1)"
   ]
  },
  {
   "cell_type": "code",
   "execution_count": 114,
   "metadata": {},
   "outputs": [],
   "source": [
    "dummies = pd.get_dummies(data['intended_use'])\n",
    "data = pd.concat([data, dummies], axis=1)\n",
    "data = data.drop(['intended_use'], axis=1)"
   ]
  },
  {
   "cell_type": "code",
   "execution_count": 115,
   "metadata": {},
   "outputs": [],
   "source": [
    "data = data.drop(['age'], axis=1)"
   ]
  },
  {
   "cell_type": "code",
   "execution_count": 116,
   "metadata": {},
   "outputs": [],
   "source": [
    "dummies = pd.get_dummies(data['op_sys'])\n",
    "data = pd.concat([data, dummies], axis=1)\n",
    "data = data.drop(['op_sys'], axis=1)"
   ]
  },
  {
   "cell_type": "code",
   "execution_count": 117,
   "metadata": {},
   "outputs": [],
   "source": [
    "dummies = pd.get_dummies(data['age_range'])\n",
    "data = pd.concat([data, dummies], axis=1)\n",
    "data = data.drop(['age_range'], axis=1)"
   ]
  },
  {
   "cell_type": "code",
   "execution_count": 118,
   "metadata": {},
   "outputs": [],
   "source": [
    "data.loc[data['num_trial_days']==0,'num_trial_days']=0\n",
    "data.loc[data['num_trial_days']==14,'num_trial_days']=1\n",
    "data.loc[data['male_TF']==True,'male_TF']=1\n",
    "data.loc[data['male_TF']==False,'male_TF']=0"
   ]
  },
  {
   "cell_type": "code",
   "execution_count": 119,
   "metadata": {},
   "outputs": [
    {
     "name": "stdout",
     "output_type": "stream",
     "text": [
      "<class 'pandas.core.frame.DataFrame'>\n",
      "Int64Index: 165790 entries, 0 to 218771\n",
      "Data columns (total 32 columns):\n",
      " #   Column                        Non-Null Count   Dtype  \n",
      "---  ------                        --------------   -----  \n",
      " 0   num_weekly_services_utilized  165790 non-null  float64\n",
      " 1   weekly_consumption_hour       165790 non-null  float64\n",
      " 2   num_ideal_streaming_services  165790 non-null  float64\n",
      " 3   male_TF                       165790 non-null  object \n",
      " 4   discount_price                165790 non-null  float64\n",
      " 5   initial_credit_card_declined  165790 non-null  bool   \n",
      " 6   join_fee                      165790 non-null  float64\n",
      " 7   num_trial_days                165790 non-null  int64  \n",
      " 8   current_sub_TF                165790 non-null  bool   \n",
      " 9   payment_period                165790 non-null  int64  \n",
      " 10  trial_completed               165790 non-null  bool   \n",
      " 11  cancel_TF                     165790 non-null  bool   \n",
      " 12  base                          165790 non-null  uint8  \n",
      " 13  economy                       165790 non-null  uint8  \n",
      " 14  enhanced                      165790 non-null  uint8  \n",
      " 15  comedy                        165790 non-null  uint8  \n",
      " 16  drama                         165790 non-null  uint8  \n",
      " 17  international                 165790 non-null  uint8  \n",
      " 18  other                         165790 non-null  uint8  \n",
      " 19  regional                      165790 non-null  uint8  \n",
      " 20  access to exclusive content   165790 non-null  uint8  \n",
      " 21  education                     165790 non-null  uint8  \n",
      " 22  expand international access   165790 non-null  uint8  \n",
      " 23  expand regional access        165790 non-null  uint8  \n",
      " 24  other                         165790 non-null  uint8  \n",
      " 25  replace OTT                   165790 non-null  uint8  \n",
      " 26  supplement OTT                165790 non-null  uint8  \n",
      " 27  Android                       165790 non-null  uint8  \n",
      " 28  iOS                           165790 non-null  uint8  \n",
      " 29  middle-aged                   165790 non-null  uint8  \n",
      " 30  old                           165790 non-null  uint8  \n",
      " 31  young                         165790 non-null  uint8  \n",
      "dtypes: bool(4), float64(5), int64(2), object(1), uint8(20)\n",
      "memory usage: 15.2+ MB\n"
     ]
    }
   ],
   "source": [
    "data.info()"
   ]
  },
  {
   "cell_type": "markdown",
   "metadata": {},
   "source": [
    "# clustering"
   ]
  },
  {
   "cell_type": "code",
   "execution_count": 120,
   "metadata": {},
   "outputs": [],
   "source": [
    "data_00 = data[:]"
   ]
  },
  {
   "cell_type": "code",
   "execution_count": 121,
   "metadata": {},
   "outputs": [],
   "source": [
    "del data_00['cancel_TF']"
   ]
  },
  {
   "cell_type": "code",
   "execution_count": 122,
   "metadata": {},
   "outputs": [],
   "source": [
    "del data_00['trial_completed']"
   ]
  },
  {
   "cell_type": "code",
   "execution_count": 123,
   "metadata": {},
   "outputs": [],
   "source": [
    "del data_00['current_sub_TF']"
   ]
  },
  {
   "cell_type": "code",
   "execution_count": 124,
   "metadata": {},
   "outputs": [
    {
     "name": "stdout",
     "output_type": "stream",
     "text": [
      "<class 'pandas.core.frame.DataFrame'>\n",
      "Int64Index: 165790 entries, 0 to 218771\n",
      "Data columns (total 29 columns):\n",
      " #   Column                        Non-Null Count   Dtype  \n",
      "---  ------                        --------------   -----  \n",
      " 0   num_weekly_services_utilized  165790 non-null  float64\n",
      " 1   weekly_consumption_hour       165790 non-null  float64\n",
      " 2   num_ideal_streaming_services  165790 non-null  float64\n",
      " 3   male_TF                       165790 non-null  object \n",
      " 4   discount_price                165790 non-null  float64\n",
      " 5   initial_credit_card_declined  165790 non-null  bool   \n",
      " 6   join_fee                      165790 non-null  float64\n",
      " 7   num_trial_days                165790 non-null  int64  \n",
      " 8   payment_period                165790 non-null  int64  \n",
      " 9   base                          165790 non-null  uint8  \n",
      " 10  economy                       165790 non-null  uint8  \n",
      " 11  enhanced                      165790 non-null  uint8  \n",
      " 12  comedy                        165790 non-null  uint8  \n",
      " 13  drama                         165790 non-null  uint8  \n",
      " 14  international                 165790 non-null  uint8  \n",
      " 15  other                         165790 non-null  uint8  \n",
      " 16  regional                      165790 non-null  uint8  \n",
      " 17  access to exclusive content   165790 non-null  uint8  \n",
      " 18  education                     165790 non-null  uint8  \n",
      " 19  expand international access   165790 non-null  uint8  \n",
      " 20  expand regional access        165790 non-null  uint8  \n",
      " 21  other                         165790 non-null  uint8  \n",
      " 22  replace OTT                   165790 non-null  uint8  \n",
      " 23  supplement OTT                165790 non-null  uint8  \n",
      " 24  Android                       165790 non-null  uint8  \n",
      " 25  iOS                           165790 non-null  uint8  \n",
      " 26  middle-aged                   165790 non-null  uint8  \n",
      " 27  old                           165790 non-null  uint8  \n",
      " 28  young                         165790 non-null  uint8  \n",
      "dtypes: bool(1), float64(5), int64(2), object(1), uint8(20)\n",
      "memory usage: 14.7+ MB\n"
     ]
    }
   ],
   "source": [
    "data_00.info()"
   ]
  },
  {
   "cell_type": "code",
   "execution_count": 125,
   "metadata": {},
   "outputs": [],
   "source": [
    "if 0==1:\n",
    "    scaler = MinMaxScaler()\n",
    "    scaler.fit(data_00)\n",
    "    # transform\n",
    "    data_scaled = pd.DataFrame(scaler.transform(data_00),columns=data_00.columns)\n",
    "\n",
    "    # KMeans\n",
    "    # choose k value with elbow method\n",
    "    K = range(1, 8)\n",
    "    meanDispersions = []\n",
    "    for k in K:\n",
    "        kmeans = KMeans(n_clusters=k)\n",
    "        kmeans.fit(data_00)\n",
    "        meanDispersions.append(sum(np.min(cdist(data_00, kmeans.cluster_centers_, 'euclidean'), axis=1)) / data_00.shape[0])\n",
    "\n",
    "    plt.plot(K, meanDispersions, 'bx-')\n",
    "    plt.xlabel('k')\n",
    "    plt.ylabel('Average Dispersion')\n",
    "    plt.title('Selecting k with the Elbow Method')\n",
    "    plt.show()"
   ]
  },
  {
   "cell_type": "code",
   "execution_count": 126,
   "metadata": {},
   "outputs": [
    {
     "data": {
      "text/plain": [
       "array([0, 1, 2], dtype=int32)"
      ]
     },
     "execution_count": 126,
     "metadata": {},
     "output_type": "execute_result"
    }
   ],
   "source": [
    "kmeans = KMeans(n_clusters=3).fit(data_00)\n",
    "data['type']=kmeans.labels_\n",
    "data['type'].unique()"
   ]
  },
  {
   "cell_type": "code",
   "execution_count": 127,
   "metadata": {},
   "outputs": [
    {
     "data": {
      "text/html": [
       "<div>\n",
       "<style scoped>\n",
       "    .dataframe tbody tr th:only-of-type {\n",
       "        vertical-align: middle;\n",
       "    }\n",
       "\n",
       "    .dataframe tbody tr th {\n",
       "        vertical-align: top;\n",
       "    }\n",
       "\n",
       "    .dataframe thead th {\n",
       "        text-align: right;\n",
       "    }\n",
       "</style>\n",
       "<table border=\"1\" class=\"dataframe\">\n",
       "  <thead>\n",
       "    <tr style=\"text-align: right;\">\n",
       "      <th></th>\n",
       "      <th>num_weekly_services_utilized</th>\n",
       "      <th>weekly_consumption_hour</th>\n",
       "      <th>num_ideal_streaming_services</th>\n",
       "      <th>male_TF</th>\n",
       "      <th>discount_price</th>\n",
       "      <th>initial_credit_card_declined</th>\n",
       "      <th>join_fee</th>\n",
       "      <th>num_trial_days</th>\n",
       "      <th>payment_period</th>\n",
       "      <th>base</th>\n",
       "      <th>...</th>\n",
       "      <th>expand international access</th>\n",
       "      <th>expand regional access</th>\n",
       "      <th>other</th>\n",
       "      <th>replace OTT</th>\n",
       "      <th>supplement OTT</th>\n",
       "      <th>Android</th>\n",
       "      <th>iOS</th>\n",
       "      <th>middle-aged</th>\n",
       "      <th>old</th>\n",
       "      <th>young</th>\n",
       "    </tr>\n",
       "  </thead>\n",
       "  <tbody>\n",
       "    <tr>\n",
       "      <th>0</th>\n",
       "      <td>3.0</td>\n",
       "      <td>28.751405</td>\n",
       "      <td>2.0</td>\n",
       "      <td>0</td>\n",
       "      <td>4.5141</td>\n",
       "      <td>False</td>\n",
       "      <td>0.3303</td>\n",
       "      <td>1</td>\n",
       "      <td>0</td>\n",
       "      <td>1</td>\n",
       "      <td>...</td>\n",
       "      <td>0</td>\n",
       "      <td>0</td>\n",
       "      <td>0</td>\n",
       "      <td>1</td>\n",
       "      <td>0</td>\n",
       "      <td>0</td>\n",
       "      <td>1</td>\n",
       "      <td>1</td>\n",
       "      <td>0</td>\n",
       "      <td>0</td>\n",
       "    </tr>\n",
       "    <tr>\n",
       "      <th>1</th>\n",
       "      <td>3.0</td>\n",
       "      <td>20.051667</td>\n",
       "      <td>2.0</td>\n",
       "      <td>0</td>\n",
       "      <td>4.5141</td>\n",
       "      <td>False</td>\n",
       "      <td>0.0367</td>\n",
       "      <td>1</td>\n",
       "      <td>0</td>\n",
       "      <td>0</td>\n",
       "      <td>...</td>\n",
       "      <td>0</td>\n",
       "      <td>0</td>\n",
       "      <td>0</td>\n",
       "      <td>1</td>\n",
       "      <td>0</td>\n",
       "      <td>1</td>\n",
       "      <td>0</td>\n",
       "      <td>1</td>\n",
       "      <td>0</td>\n",
       "      <td>0</td>\n",
       "    </tr>\n",
       "    <tr>\n",
       "      <th>2</th>\n",
       "      <td>3.0</td>\n",
       "      <td>36.001186</td>\n",
       "      <td>2.0</td>\n",
       "      <td>1</td>\n",
       "      <td>4.5141</td>\n",
       "      <td>False</td>\n",
       "      <td>0.3303</td>\n",
       "      <td>1</td>\n",
       "      <td>0</td>\n",
       "      <td>0</td>\n",
       "      <td>...</td>\n",
       "      <td>0</td>\n",
       "      <td>0</td>\n",
       "      <td>0</td>\n",
       "      <td>0</td>\n",
       "      <td>0</td>\n",
       "      <td>1</td>\n",
       "      <td>0</td>\n",
       "      <td>0</td>\n",
       "      <td>1</td>\n",
       "      <td>0</td>\n",
       "    </tr>\n",
       "    <tr>\n",
       "      <th>3</th>\n",
       "      <td>3.0</td>\n",
       "      <td>28.751405</td>\n",
       "      <td>2.0</td>\n",
       "      <td>0</td>\n",
       "      <td>4.5141</td>\n",
       "      <td>False</td>\n",
       "      <td>0.3303</td>\n",
       "      <td>1</td>\n",
       "      <td>0</td>\n",
       "      <td>1</td>\n",
       "      <td>...</td>\n",
       "      <td>0</td>\n",
       "      <td>0</td>\n",
       "      <td>0</td>\n",
       "      <td>1</td>\n",
       "      <td>0</td>\n",
       "      <td>0</td>\n",
       "      <td>1</td>\n",
       "      <td>1</td>\n",
       "      <td>0</td>\n",
       "      <td>0</td>\n",
       "    </tr>\n",
       "    <tr>\n",
       "      <th>4</th>\n",
       "      <td>3.0</td>\n",
       "      <td>31.651317</td>\n",
       "      <td>2.0</td>\n",
       "      <td>0</td>\n",
       "      <td>4.5141</td>\n",
       "      <td>False</td>\n",
       "      <td>0.3303</td>\n",
       "      <td>1</td>\n",
       "      <td>1</td>\n",
       "      <td>1</td>\n",
       "      <td>...</td>\n",
       "      <td>0</td>\n",
       "      <td>0</td>\n",
       "      <td>0</td>\n",
       "      <td>0</td>\n",
       "      <td>0</td>\n",
       "      <td>1</td>\n",
       "      <td>0</td>\n",
       "      <td>1</td>\n",
       "      <td>0</td>\n",
       "      <td>0</td>\n",
       "    </tr>\n",
       "    <tr>\n",
       "      <th>...</th>\n",
       "      <td>...</td>\n",
       "      <td>...</td>\n",
       "      <td>...</td>\n",
       "      <td>...</td>\n",
       "      <td>...</td>\n",
       "      <td>...</td>\n",
       "      <td>...</td>\n",
       "      <td>...</td>\n",
       "      <td>...</td>\n",
       "      <td>...</td>\n",
       "      <td>...</td>\n",
       "      <td>...</td>\n",
       "      <td>...</td>\n",
       "      <td>...</td>\n",
       "      <td>...</td>\n",
       "      <td>...</td>\n",
       "      <td>...</td>\n",
       "      <td>...</td>\n",
       "      <td>...</td>\n",
       "      <td>...</td>\n",
       "      <td>...</td>\n",
       "    </tr>\n",
       "    <tr>\n",
       "      <th>218712</th>\n",
       "      <td>3.0</td>\n",
       "      <td>24.401536</td>\n",
       "      <td>2.0</td>\n",
       "      <td>0</td>\n",
       "      <td>4.5141</td>\n",
       "      <td>False</td>\n",
       "      <td>0.0367</td>\n",
       "      <td>1</td>\n",
       "      <td>3</td>\n",
       "      <td>1</td>\n",
       "      <td>...</td>\n",
       "      <td>0</td>\n",
       "      <td>0</td>\n",
       "      <td>0</td>\n",
       "      <td>0</td>\n",
       "      <td>0</td>\n",
       "      <td>0</td>\n",
       "      <td>1</td>\n",
       "      <td>1</td>\n",
       "      <td>0</td>\n",
       "      <td>0</td>\n",
       "    </tr>\n",
       "    <tr>\n",
       "      <th>218728</th>\n",
       "      <td>3.0</td>\n",
       "      <td>24.401536</td>\n",
       "      <td>2.0</td>\n",
       "      <td>0</td>\n",
       "      <td>4.5141</td>\n",
       "      <td>False</td>\n",
       "      <td>0.0000</td>\n",
       "      <td>1</td>\n",
       "      <td>3</td>\n",
       "      <td>0</td>\n",
       "      <td>...</td>\n",
       "      <td>0</td>\n",
       "      <td>0</td>\n",
       "      <td>0</td>\n",
       "      <td>0</td>\n",
       "      <td>0</td>\n",
       "      <td>0</td>\n",
       "      <td>1</td>\n",
       "      <td>0</td>\n",
       "      <td>1</td>\n",
       "      <td>0</td>\n",
       "    </tr>\n",
       "    <tr>\n",
       "      <th>218734</th>\n",
       "      <td>3.0</td>\n",
       "      <td>28.751405</td>\n",
       "      <td>2.0</td>\n",
       "      <td>0</td>\n",
       "      <td>4.5141</td>\n",
       "      <td>False</td>\n",
       "      <td>0.0367</td>\n",
       "      <td>1</td>\n",
       "      <td>0</td>\n",
       "      <td>1</td>\n",
       "      <td>...</td>\n",
       "      <td>0</td>\n",
       "      <td>0</td>\n",
       "      <td>0</td>\n",
       "      <td>0</td>\n",
       "      <td>0</td>\n",
       "      <td>0</td>\n",
       "      <td>1</td>\n",
       "      <td>0</td>\n",
       "      <td>1</td>\n",
       "      <td>0</td>\n",
       "    </tr>\n",
       "    <tr>\n",
       "      <th>218735</th>\n",
       "      <td>3.0</td>\n",
       "      <td>24.401536</td>\n",
       "      <td>2.0</td>\n",
       "      <td>0</td>\n",
       "      <td>4.5141</td>\n",
       "      <td>False</td>\n",
       "      <td>0.0000</td>\n",
       "      <td>1</td>\n",
       "      <td>0</td>\n",
       "      <td>0</td>\n",
       "      <td>...</td>\n",
       "      <td>0</td>\n",
       "      <td>0</td>\n",
       "      <td>0</td>\n",
       "      <td>0</td>\n",
       "      <td>0</td>\n",
       "      <td>0</td>\n",
       "      <td>1</td>\n",
       "      <td>1</td>\n",
       "      <td>0</td>\n",
       "      <td>0</td>\n",
       "    </tr>\n",
       "    <tr>\n",
       "      <th>218771</th>\n",
       "      <td>3.0</td>\n",
       "      <td>28.000000</td>\n",
       "      <td>2.0</td>\n",
       "      <td>0</td>\n",
       "      <td>4.5141</td>\n",
       "      <td>False</td>\n",
       "      <td>0.0000</td>\n",
       "      <td>1</td>\n",
       "      <td>3</td>\n",
       "      <td>0</td>\n",
       "      <td>...</td>\n",
       "      <td>0</td>\n",
       "      <td>0</td>\n",
       "      <td>0</td>\n",
       "      <td>0</td>\n",
       "      <td>0</td>\n",
       "      <td>0</td>\n",
       "      <td>1</td>\n",
       "      <td>1</td>\n",
       "      <td>0</td>\n",
       "      <td>0</td>\n",
       "    </tr>\n",
       "  </tbody>\n",
       "</table>\n",
       "<p>165790 rows × 29 columns</p>\n",
       "</div>"
      ],
      "text/plain": [
       "        num_weekly_services_utilized  weekly_consumption_hour  \\\n",
       "0                                3.0                28.751405   \n",
       "1                                3.0                20.051667   \n",
       "2                                3.0                36.001186   \n",
       "3                                3.0                28.751405   \n",
       "4                                3.0                31.651317   \n",
       "...                              ...                      ...   \n",
       "218712                           3.0                24.401536   \n",
       "218728                           3.0                24.401536   \n",
       "218734                           3.0                28.751405   \n",
       "218735                           3.0                24.401536   \n",
       "218771                           3.0                28.000000   \n",
       "\n",
       "        num_ideal_streaming_services male_TF  discount_price  \\\n",
       "0                                2.0       0          4.5141   \n",
       "1                                2.0       0          4.5141   \n",
       "2                                2.0       1          4.5141   \n",
       "3                                2.0       0          4.5141   \n",
       "4                                2.0       0          4.5141   \n",
       "...                              ...     ...             ...   \n",
       "218712                           2.0       0          4.5141   \n",
       "218728                           2.0       0          4.5141   \n",
       "218734                           2.0       0          4.5141   \n",
       "218735                           2.0       0          4.5141   \n",
       "218771                           2.0       0          4.5141   \n",
       "\n",
       "        initial_credit_card_declined  join_fee  num_trial_days  \\\n",
       "0                              False    0.3303               1   \n",
       "1                              False    0.0367               1   \n",
       "2                              False    0.3303               1   \n",
       "3                              False    0.3303               1   \n",
       "4                              False    0.3303               1   \n",
       "...                              ...       ...             ...   \n",
       "218712                         False    0.0367               1   \n",
       "218728                         False    0.0000               1   \n",
       "218734                         False    0.0367               1   \n",
       "218735                         False    0.0000               1   \n",
       "218771                         False    0.0000               1   \n",
       "\n",
       "        payment_period  base  ...  expand international access  \\\n",
       "0                    0     1  ...                            0   \n",
       "1                    0     0  ...                            0   \n",
       "2                    0     0  ...                            0   \n",
       "3                    0     1  ...                            0   \n",
       "4                    1     1  ...                            0   \n",
       "...                ...   ...  ...                          ...   \n",
       "218712               3     1  ...                            0   \n",
       "218728               3     0  ...                            0   \n",
       "218734               0     1  ...                            0   \n",
       "218735               0     0  ...                            0   \n",
       "218771               3     0  ...                            0   \n",
       "\n",
       "        expand regional access  other  replace OTT  supplement OTT  Android  \\\n",
       "0                            0      0            1               0        0   \n",
       "1                            0      0            1               0        1   \n",
       "2                            0      0            0               0        1   \n",
       "3                            0      0            1               0        0   \n",
       "4                            0      0            0               0        1   \n",
       "...                        ...    ...          ...             ...      ...   \n",
       "218712                       0      0            0               0        0   \n",
       "218728                       0      0            0               0        0   \n",
       "218734                       0      0            0               0        0   \n",
       "218735                       0      0            0               0        0   \n",
       "218771                       0      0            0               0        0   \n",
       "\n",
       "        iOS  middle-aged  old  young  \n",
       "0         1            1    0      0  \n",
       "1         0            1    0      0  \n",
       "2         0            0    1      0  \n",
       "3         1            1    0      0  \n",
       "4         0            1    0      0  \n",
       "...     ...          ...  ...    ...  \n",
       "218712    1            1    0      0  \n",
       "218728    1            0    1      0  \n",
       "218734    1            0    1      0  \n",
       "218735    1            1    0      0  \n",
       "218771    1            1    0      0  \n",
       "\n",
       "[165790 rows x 29 columns]"
      ]
     },
     "execution_count": 127,
     "metadata": {},
     "output_type": "execute_result"
    }
   ],
   "source": [
    "data_00"
   ]
  },
  {
   "cell_type": "code",
   "execution_count": 128,
   "metadata": {},
   "outputs": [],
   "source": [
    "data.to_csv('clustered.csv')"
   ]
  },
  {
   "cell_type": "code",
   "execution_count": 129,
   "metadata": {},
   "outputs": [],
   "source": [
    "import seaborn as sns"
   ]
  },
  {
   "cell_type": "code",
   "execution_count": 130,
   "metadata": {},
   "outputs": [
    {
     "data": {
      "text/plain": [
       "<matplotlib.axes._subplots.AxesSubplot at 0x108dd5430>"
      ]
     },
     "execution_count": 130,
     "metadata": {},
     "output_type": "execute_result"
    },
    {
     "data": {
      "image/png": "[encoded data removed]",
      "text/plain": [
       "<Figure size 432x288 with 2 Axes>"
      ]
     },
     "metadata": {
      "needs_background": "light"
     },
     "output_type": "display_data"
    }
   ],
   "source": [
    "cor=data.corr()\n",
    "sns.heatmap(cor,annot=False,cmap=\"YlGnBu\")"
   ]
  },
  {
   "cell_type": "code",
   "execution_count": 131,
   "metadata": {},
   "outputs": [],
   "source": [
    "df = pd.read_csv('clustered.csv')"
   ]
  },
  {
   "cell_type": "code",
   "execution_count": 132,
   "metadata": {},
   "outputs": [],
   "source": [
    "hehe = df.groupby(['type']).mean()"
   ]
  },
  {
   "cell_type": "code",
   "execution_count": 133,
   "metadata": {},
   "outputs": [],
   "source": [
    "hehe.to_csv('cluster_mean.csv')"
   ]
  },
  {
   "cell_type": "code",
   "execution_count": 134,
   "metadata": {},
   "outputs": [],
   "source": [
    "del data['cancel_TF']"
   ]
  },
  {
   "cell_type": "code",
   "execution_count": 135,
   "metadata": {},
   "outputs": [],
   "source": [
    "del data['trial_completed']"
   ]
  },
  {
   "cell_type": "code",
   "execution_count": 136,
   "metadata": {},
   "outputs": [],
   "source": [
    "del data['payment_period']"
   ]
  },
  {
   "cell_type": "code",
   "execution_count": 137,
   "metadata": {},
   "outputs": [
    {
     "name": "stdout",
     "output_type": "stream",
     "text": [
      "<class 'pandas.core.frame.DataFrame'>\n",
      "Int64Index: 165790 entries, 0 to 218771\n",
      "Data columns (total 30 columns):\n",
      " #   Column                        Non-Null Count   Dtype  \n",
      "---  ------                        --------------   -----  \n",
      " 0   num_weekly_services_utilized  165790 non-null  float64\n",
      " 1   weekly_consumption_hour       165790 non-null  float64\n",
      " 2   num_ideal_streaming_services  165790 non-null  float64\n",
      " 3   male_TF                       165790 non-null  object \n",
      " 4   discount_price                165790 non-null  float64\n",
      " 5   initial_credit_card_declined  165790 non-null  bool   \n",
      " 6   join_fee                      165790 non-null  float64\n",
      " 7   num_trial_days                165790 non-null  int64  \n",
      " 8   current_sub_TF                165790 non-null  bool   \n",
      " 9   base                          165790 non-null  uint8  \n",
      " 10  economy                       165790 non-null  uint8  \n",
      " 11  enhanced                      165790 non-null  uint8  \n",
      " 12  comedy                        165790 non-null  uint8  \n",
      " 13  drama                         165790 non-null  uint8  \n",
      " 14  international                 165790 non-null  uint8  \n",
      " 15  other                         165790 non-null  uint8  \n",
      " 16  regional                      165790 non-null  uint8  \n",
      " 17  access to exclusive content   165790 non-null  uint8  \n",
      " 18  education                     165790 non-null  uint8  \n",
      " 19  expand international access   165790 non-null  uint8  \n",
      " 20  expand regional access        165790 non-null  uint8  \n",
      " 21  other                         165790 non-null  uint8  \n",
      " 22  replace OTT                   165790 non-null  uint8  \n",
      " 23  supplement OTT                165790 non-null  uint8  \n",
      " 24  Android                       165790 non-null  uint8  \n",
      " 25  iOS                           165790 non-null  uint8  \n",
      " 26  middle-aged                   165790 non-null  uint8  \n",
      " 27  old                           165790 non-null  uint8  \n",
      " 28  young                         165790 non-null  uint8  \n",
      " 29  type                          165790 non-null  int32  \n",
      "dtypes: bool(2), float64(5), int32(1), int64(1), object(1), uint8(20)\n",
      "memory usage: 14.2+ MB\n"
     ]
    }
   ],
   "source": [
    "data.info()"
   ]
  },
  {
   "cell_type": "code",
   "execution_count": 138,
   "metadata": {},
   "outputs": [],
   "source": [
    "y = data['current_sub_TF']"
   ]
  },
  {
   "cell_type": "code",
   "execution_count": 139,
   "metadata": {},
   "outputs": [],
   "source": [
    "X = data.drop(['current_sub_TF'], axis=1)"
   ]
  },
  {
   "cell_type": "code",
   "execution_count": 140,
   "metadata": {},
   "outputs": [],
   "source": [
    "X_train, X_test, y_train, y_test = train_test_split(\n",
    "    X, y, test_size=0.3, random_state=9)"
   ]
  },
  {
   "cell_type": "code",
   "execution_count": 141,
   "metadata": {},
   "outputs": [
    {
     "name": "stderr",
     "output_type": "stream",
     "text": [
      "/Users/wan/opt/anaconda3/lib/python3.8/site-packages/sklearn/linear_model/_logistic.py:762: ConvergenceWarning: lbfgs failed to converge (status=1):\n",
      "STOP: TOTAL NO. of ITERATIONS REACHED LIMIT.\n",
      "\n",
      "Increase the number of iterations (max_iter) or scale the data as shown in:\n",
      "    https://scikit-learn.org/stable/modules/preprocessing.html\n",
      "Please also refer to the documentation for alternative solver options:\n",
      "    https://scikit-learn.org/stable/modules/linear_model.html#logistic-regression\n",
      "  n_iter_i = _check_optimize_result(\n"
     ]
    }
   ],
   "source": [
    "from sklearn.linear_model import LogisticRegression\n",
    "\n",
    "logreg = LogisticRegression()\n",
    "\n",
    "logreg.fit(X_train,y_train)\n",
    "\n",
    "y_pred=logreg.predict(X_test)"
   ]
  },
  {
   "cell_type": "code",
   "execution_count": 142,
   "metadata": {},
   "outputs": [
    {
     "data": {
      "text/plain": [
       "array([[12492,  5298],\n",
       "       [ 4249, 27698]])"
      ]
     },
     "execution_count": 142,
     "metadata": {},
     "output_type": "execute_result"
    }
   ],
   "source": [
    "from sklearn import metrics\n",
    "cnf_matrix = metrics.confusion_matrix(y_test, y_pred)\n",
    "cnf_matrix"
   ]
  },
  {
   "cell_type": "code",
   "execution_count": 143,
   "metadata": {},
   "outputs": [
    {
     "data": {
      "text/plain": [
       "Text(0.5, 257.44, 'Predicted label')"
      ]
     },
     "execution_count": 143,
     "metadata": {},
     "output_type": "execute_result"
    },
    {
     "data": {
      "image/png": "[encoded data removed]",
      "text/plain": [
       "<Figure size 432x288 with 2 Axes>"
      ]
     },
     "metadata": {
      "needs_background": "light"
     },
     "output_type": "display_data"
    }
   ],
   "source": [
    "class_names=[0,1] # name  of classes\n",
    "fig, ax = plt.subplots()\n",
    "tick_marks = np.arange(len(class_names))\n",
    "plt.xticks(tick_marks, class_names)\n",
    "plt.yticks(tick_marks, class_names)\n",
    "# create heatmap\n",
    "sns.heatmap(pd.DataFrame(cnf_matrix), annot=True, cmap=\"YlGnBu\" ,fmt='g')\n",
    "ax.xaxis.set_label_position(\"top\")\n",
    "plt.tight_layout()\n",
    "plt.title('Confusion matrix', y=1.1)\n",
    "plt.ylabel('Actual label')\n",
    "plt.xlabel('Predicted label')"
   ]
  },
  {
   "cell_type": "code",
   "execution_count": 144,
   "metadata": {
    "scrolled": true
   },
   "outputs": [
    {
     "name": "stdout",
     "output_type": "stream",
     "text": [
      "Accuracy: 0.8080503448137202\n",
      "Precision: 0.8394350830403685\n",
      "Recall: 0.8669984662096597\n"
     ]
    }
   ],
   "source": [
    "print(\"Accuracy:\",metrics.accuracy_score(y_test, y_pred))\n",
    "print(\"Precision:\",metrics.precision_score(y_test, y_pred))\n",
    "print(\"Recall:\",metrics.recall_score(y_test, y_pred))"
   ]
  },
  {
   "cell_type": "code",
   "execution_count": 145,
   "metadata": {},
   "outputs": [
    {
     "data": {
      "image/png": "[encoded data removed]",
      "text/plain": [
       "<Figure size 432x288 with 1 Axes>"
      ]
     },
     "metadata": {
      "needs_background": "light"
     },
     "output_type": "display_data"
    }
   ],
   "source": [
    "y_pred_proba = logreg.predict_proba(X_test)[::,1]\n",
    "fpr, tpr, _ = metrics.roc_curve(y_test,  y_pred_proba)\n",
    "auc = metrics.roc_auc_score(y_test, y_pred_proba)\n",
    "plt.plot(fpr,tpr,label=\"data 1, auc=\"+str(auc))\n",
    "plt.legend(loc=4)\n",
    "plt.show()"
   ]
  },
  {
   "cell_type": "code",
   "execution_count": 146,
   "metadata": {},
   "outputs": [],
   "source": [
    "from sklearn.ensemble import GradientBoostingClassifier\n",
    "\n",
    "gb = GradientBoostingClassifier()\n",
    "\n",
    "gb.fit(X_train, y_train)\n",
    "\n",
    "y_pred = gb.predict(X_test)"
   ]
  },
  {
   "cell_type": "code",
   "execution_count": 147,
   "metadata": {},
   "outputs": [
    {
     "name": "stdout",
     "output_type": "stream",
     "text": [
      "Accuracy: 0.8078291814946619\n",
      "Precision: 0.8357980622131566\n",
      "Recall: 0.8721632704166276\n"
     ]
    }
   ],
   "source": [
    "print(\"Accuracy:\",metrics.accuracy_score(y_test, y_pred))\n",
    "print(\"Precision:\",metrics.precision_score(y_test, y_pred))\n",
    "print(\"Recall:\",metrics.recall_score(y_test, y_pred))"
   ]
  },
  {
   "cell_type": "code",
   "execution_count": 148,
   "metadata": {},
   "outputs": [
    {
     "data": {
      "image/png": "[encoded data removed]",
      "text/plain": [
       "<Figure size 432x288 with 1 Axes>"
      ]
     },
     "metadata": {
      "needs_background": "light"
     },
     "output_type": "display_data"
    }
   ],
   "source": [
    "y_pred_proba = logreg.predict_proba(X_test)[::,1]\n",
    "fpr, tpr, _ = metrics.roc_curve(y_test,  y_pred_proba)\n",
    "auc = metrics.roc_auc_score(y_test, y_pred_proba)\n",
    "plt.plot(fpr,tpr,label=\"data 1, auc=\"+str(auc))\n",
    "plt.legend(loc=4)\n",
    "plt.show()"
   ]
  },
  {
   "cell_type": "code",
   "execution_count": 149,
   "metadata": {},
   "outputs": [
    {
     "data": {
      "image/png": "[encoded data removed]",
      "text/plain": [
       "<Figure size 432x288 with 1 Axes>"
      ]
     },
     "metadata": {
      "needs_background": "light"
     },
     "output_type": "display_data"
    }
   ],
   "source": [
    "scatter = plt.scatter(data['num_weekly_services_utilized'], data['weekly_consumption_hour'], c=data['type'],cmap='Accent')\n",
    "plt.legend(handles=scatter.legend_elements()[0], labels=['cluster:1','cluster:2','cluster:3'])\n",
    "plt.xlabel('Weekly services utilized')\n",
    "plt.ylabel('Weekly consumption hour')\n",
    "plt.title('3 Clusters of users')\n",
    "plt.show()"
   ]
  },
  {
   "cell_type": "code",
   "execution_count": 150,
   "metadata": {},
   "outputs": [],
   "source": [
    "import xgboost as xgb\n",
    "from xgboost.sklearn import XGBClassifier\n",
    "from sklearn import metrics\n",
    "from sklearn.model_selection import RandomizedSearchCV, GridSearchCV, train_test_split"
   ]
  },
  {
   "cell_type": "code",
   "execution_count": 208,
   "metadata": {},
   "outputs": [],
   "source": [
    "from sklearn.ensemble import RandomForestClassifier\n",
    "from sklearn.model_selection import GridSearchCV\n",
    "\n",
    "from sklearn.feature_selection import SelectFromModel\n",
    "from sklearn.ensemble import ExtraTreesClassifier"
   ]
  },
  {
   "cell_type": "code",
   "execution_count": 209,
   "metadata": {},
   "outputs": [],
   "source": [
    "trainX = X_train\n",
    "trainY = y_train"
   ]
  },
  {
   "cell_type": "code",
   "execution_count": 210,
   "metadata": {},
   "outputs": [
    {
     "data": {
      "text/plain": [
       "['num_weekly_services_utilized',\n",
       " 'weekly_consumption_hour',\n",
       " 'num_ideal_streaming_services',\n",
       " 'male_TF',\n",
       " 'discount_price',\n",
       " 'initial_credit_card_declined',\n",
       " 'join_fee',\n",
       " 'num_trial_days',\n",
       " 'current_sub_TF',\n",
       " 'base',\n",
       " 'economy',\n",
       " 'enhanced',\n",
       " 'comedy',\n",
       " 'drama',\n",
       " 'international',\n",
       " 'other',\n",
       " 'regional',\n",
       " 'access to exclusive content',\n",
       " 'education',\n",
       " 'expand international access',\n",
       " 'expand regional access',\n",
       " 'other',\n",
       " 'replace OTT',\n",
       " 'supplement OTT',\n",
       " 'Android',\n",
       " 'iOS',\n",
       " 'middle-aged',\n",
       " 'old',\n",
       " 'young',\n",
       " 'type']"
      ]
     },
     "execution_count": 210,
     "metadata": {},
     "output_type": "execute_result"
    }
   ],
   "source": [
    "data.columns.values.tolist()"
   ]
  },
  {
   "cell_type": "code",
   "execution_count": null,
   "metadata": {},
   "outputs": [
    {
     "name": "stdout",
     "output_type": "stream",
     "text": [
      "\tnum_weekly_services_utilized : 0.108881\n",
      "\tweekly_consumption_hour : 0.126285\n",
      "\tnum_ideal_streaming_services : 0.012476\n",
      "\tmale_TF              : 0.020825\n",
      "\tdiscount_price       : 0.001328\n",
      "\tinitial_credit_card_declined : 0.010420\n",
      "\tjoin_fee             : 0.081742\n",
      "\tnum_trial_days       : 0.000000\n",
      "\tbase                 : 0.014126\n",
      "\teconomy              : 0.031019\n",
      "\tenhanced             : 0.022868\n",
      "\tcomedy               : 0.080460\n",
      "\tdrama                : 0.039551\n",
      "\tinternational        : 0.004989\n",
      "\tother                : 0.010708\n",
      "\tregional             : 0.006587\n",
      "\taccess to exclusive content : 0.103153\n",
      "\teducation            : 0.000312\n",
      "\texpand international access : 0.000571\n",
      "\texpand regional access : 0.000638\n",
      "\tother                : 0.007939\n",
      "\treplace OTT          : 0.181484\n",
      "\tsupplement OTT       : 0.038584\n",
      "\tAndroid              : 0.007566\n",
      "\tiOS                  : 0.007547\n",
      "\tmiddle-aged          : 0.013208\n",
      "\told                  : 0.029750\n",
      "\tyoung                : 0.021940\n",
      "\ttype                 : 0.015042\n"
     ]
    }
   ],
   "source": [
    "predictor = ['num_weekly_services_utilized',\n",
    " 'weekly_consumption_hour',\n",
    " 'num_ideal_streaming_services',\n",
    " 'male_TF',\n",
    " 'discount_price',\n",
    " 'initial_credit_card_declined',\n",
    " 'join_fee',\n",
    " 'num_trial_days',\n",
    " 'base',\n",
    " 'economy',\n",
    " 'enhanced',\n",
    " 'comedy',\n",
    " 'drama',\n",
    " 'international',\n",
    " 'other',\n",
    " 'regional',\n",
    " 'access to exclusive content',\n",
    " 'education',\n",
    " 'expand international access',\n",
    " 'expand regional access',\n",
    " 'other',\n",
    " 'replace OTT',\n",
    " 'supplement OTT',\n",
    " 'Android',\n",
    " 'iOS',\n",
    " 'middle-aged',\n",
    " 'old',\n",
    " 'young',\n",
    " 'type']\n",
    "\n",
    "parameters = {\n",
    "    'n_estimators'      : [320,330,340],\n",
    "    'max_depth'         : [8, 9, 10, 11, 12],\n",
    "    'random_state'      : [0],\n",
    "    #'max_features': ['auto'],\n",
    "    #'criterion' :['gini']\n",
    "}\n",
    "\n",
    "clf = RandomForestClassifier(n_estimators=320)\n",
    "clf = clf.fit(trainX, trainY)\n",
    "fti = clf.feature_importances_\n",
    "for i, feat in enumerate(predictor):\n",
    "    print('\\t{0:20s} : {1:>.6f}'.format(feat, fti[i]))\n",
    "\n",
    "model = SelectFromModel(clf, prefit=True)\n",
    "train_new = model.transform(trainX)\n",
    "#print (train_new.shape)\n",
    "\n",
    "clf = GridSearchCV(RandomForestClassifier(), parameters, cv=10, n_jobs=-1)\n",
    "clf.fit(train_new, trainY)\n",
    "\n",
    "print(clf.best_params_)"
   ]
  },
  {
   "cell_type": "code",
   "execution_count": null,
   "metadata": {},
   "outputs": [],
   "source": []
  }
 ],
 "metadata": {
  "kernelspec": {
   "display_name": "Python 3",
   "language": "python",
   "name": "python3"
  },
  "language_info": {
   "codemirror_mode": {
    "name": "ipython",
    "version": 3
   },
   "file_extension": ".py",
   "mimetype": "text/x-python",
   "name": "python",
   "nbconvert_exporter": "python",
   "pygments_lexer": "ipython3",
   "version": "3.8.3"
  }
 },
 "nbformat": 4,
 "nbformat_minor": 4
}
