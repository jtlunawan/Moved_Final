{
 "cells": [
  {
   "cell_type": "code",
   "execution_count": 2,
   "metadata": {},
   "outputs": [],
   "source": [
    "import pandas as pd\n",
    "import os\n",
    "from sklearn.preprocessing import MinMaxScaler\n",
    "from sklearn.model_selection import train_test_split\n",
    "import numpy as np\n",
    "from sklearn.cluster import KMeans\n",
    "from scipy.spatial.distance import cdist\n",
    "import matplotlib.pyplot as plt"
   ]
  },
  {
   "cell_type": "code",
   "execution_count": 3,
   "metadata": {},
   "outputs": [
    {
     "name": "stderr",
     "output_type": "stream",
     "text": [
      "/Users/wan/opt/anaconda3/lib/python3.8/site-packages/IPython/core/interactiveshell.py:3071: DtypeWarning: Columns (9) have mixed types.Specify dtype option on import or set low_memory=False.\n",
      "  has_raised = await self.run_ast_nodes(code_ast.body, cell_name,\n"
     ]
    }
   ],
   "source": [
    "data_original = pd.read_csv(\"subscribers.csv\")"
   ]
  },
  {
   "cell_type": "code",
   "execution_count": 4,
   "metadata": {},
   "outputs": [],
   "source": [
    "data = data_original[:]"
   ]
  },
  {
   "cell_type": "code",
   "execution_count": 5,
   "metadata": {},
   "outputs": [],
   "source": [
    "del data[\"Unnamed: 0\"]"
   ]
  },
  {
   "cell_type": "code",
   "execution_count": 6,
   "metadata": {},
   "outputs": [],
   "source": [
    "df = pd.DataFrame(data, columns = ['plan_type','current_sub_TF'])"
   ]
  },
  {
   "cell_type": "code",
   "execution_count": 7,
   "metadata": {},
   "outputs": [
    {
     "data": {
      "text/plain": [
       "base_uae_14_day_trial    218251\n",
       "high_uae_14_day_trial       325\n",
       "low_uae_no_trial            167\n",
       "base_eur_14_day_trial        14\n",
       "high_sar_14_day_trial        12\n",
       "low_gbp_14_day_trial          4\n",
       "high_aud_14_day_trial         2\n",
       "low_sar_no_trial              1\n",
       "low_eur_no_trial              1\n",
       "high_jpy_14_day_trial         1\n",
       "Name: plan_type, dtype: int64"
      ]
     },
     "execution_count": 7,
     "metadata": {},
     "output_type": "execute_result"
    }
   ],
   "source": [
    "df['plan_type'].value_counts()"
   ]
  },
  {
   "cell_type": "code",
   "execution_count": 8,
   "metadata": {},
   "outputs": [
    {
     "data": {
      "text/html": [
       "<div>\n",
       "<style scoped>\n",
       "    .dataframe tbody tr th:only-of-type {\n",
       "        vertical-align: middle;\n",
       "    }\n",
       "\n",
       "    .dataframe tbody tr th {\n",
       "        vertical-align: top;\n",
       "    }\n",
       "\n",
       "    .dataframe thead th {\n",
       "        text-align: right;\n",
       "    }\n",
       "</style>\n",
       "<table border=\"1\" class=\"dataframe\">\n",
       "  <thead>\n",
       "    <tr style=\"text-align: right;\">\n",
       "      <th></th>\n",
       "      <th></th>\n",
       "      <th>current_sub_TF</th>\n",
       "    </tr>\n",
       "    <tr>\n",
       "      <th>plan_type</th>\n",
       "      <th>current_sub_TF</th>\n",
       "      <th></th>\n",
       "    </tr>\n",
       "  </thead>\n",
       "  <tbody>\n",
       "    <tr>\n",
       "      <th rowspan=\"2\" valign=\"top\">base_eur_14_day_trial</th>\n",
       "      <th>False</th>\n",
       "      <td>8</td>\n",
       "    </tr>\n",
       "    <tr>\n",
       "      <th>True</th>\n",
       "      <td>6</td>\n",
       "    </tr>\n",
       "    <tr>\n",
       "      <th rowspan=\"2\" valign=\"top\">base_uae_14_day_trial</th>\n",
       "      <th>True</th>\n",
       "      <td>121164</td>\n",
       "    </tr>\n",
       "    <tr>\n",
       "      <th>False</th>\n",
       "      <td>97087</td>\n",
       "    </tr>\n",
       "    <tr>\n",
       "      <th rowspan=\"2\" valign=\"top\">high_aud_14_day_trial</th>\n",
       "      <th>False</th>\n",
       "      <td>1</td>\n",
       "    </tr>\n",
       "    <tr>\n",
       "      <th>True</th>\n",
       "      <td>1</td>\n",
       "    </tr>\n",
       "    <tr>\n",
       "      <th>high_jpy_14_day_trial</th>\n",
       "      <th>True</th>\n",
       "      <td>1</td>\n",
       "    </tr>\n",
       "    <tr>\n",
       "      <th rowspan=\"2\" valign=\"top\">high_sar_14_day_trial</th>\n",
       "      <th>False</th>\n",
       "      <td>10</td>\n",
       "    </tr>\n",
       "    <tr>\n",
       "      <th>True</th>\n",
       "      <td>2</td>\n",
       "    </tr>\n",
       "    <tr>\n",
       "      <th rowspan=\"2\" valign=\"top\">high_uae_14_day_trial</th>\n",
       "      <th>True</th>\n",
       "      <td>179</td>\n",
       "    </tr>\n",
       "    <tr>\n",
       "      <th>False</th>\n",
       "      <td>146</td>\n",
       "    </tr>\n",
       "    <tr>\n",
       "      <th>low_eur_no_trial</th>\n",
       "      <th>False</th>\n",
       "      <td>1</td>\n",
       "    </tr>\n",
       "    <tr>\n",
       "      <th rowspan=\"2\" valign=\"top\">low_gbp_14_day_trial</th>\n",
       "      <th>False</th>\n",
       "      <td>2</td>\n",
       "    </tr>\n",
       "    <tr>\n",
       "      <th>True</th>\n",
       "      <td>2</td>\n",
       "    </tr>\n",
       "    <tr>\n",
       "      <th>low_sar_no_trial</th>\n",
       "      <th>False</th>\n",
       "      <td>1</td>\n",
       "    </tr>\n",
       "    <tr>\n",
       "      <th rowspan=\"2\" valign=\"top\">low_uae_no_trial</th>\n",
       "      <th>False</th>\n",
       "      <td>122</td>\n",
       "    </tr>\n",
       "    <tr>\n",
       "      <th>True</th>\n",
       "      <td>45</td>\n",
       "    </tr>\n",
       "  </tbody>\n",
       "</table>\n",
       "</div>"
      ],
      "text/plain": [
       "                                      current_sub_TF\n",
       "plan_type             current_sub_TF                \n",
       "base_eur_14_day_trial False                        8\n",
       "                      True                         6\n",
       "base_uae_14_day_trial True                    121164\n",
       "                      False                    97087\n",
       "high_aud_14_day_trial False                        1\n",
       "                      True                         1\n",
       "high_jpy_14_day_trial True                         1\n",
       "high_sar_14_day_trial False                       10\n",
       "                      True                         2\n",
       "high_uae_14_day_trial True                       179\n",
       "                      False                      146\n",
       "low_eur_no_trial      False                        1\n",
       "low_gbp_14_day_trial  False                        2\n",
       "                      True                         2\n",
       "low_sar_no_trial      False                        1\n",
       "low_uae_no_trial      False                      122\n",
       "                      True                        45"
      ]
     },
     "execution_count": 8,
     "metadata": {},
     "output_type": "execute_result"
    }
   ],
   "source": [
    "a=df.groupby('plan_type')['current_sub_TF'].value_counts()\n",
    "a_df = pd.DataFrame(a)\n",
    "a_df"
   ]
  },
  {
   "cell_type": "markdown",
   "metadata": {},
   "source": [
    "# A: Base 14 Trial, B: High 14 Trial"
   ]
  },
  {
   "cell_type": "code",
   "execution_count": 9,
   "metadata": {},
   "outputs": [
    {
     "name": "stdout",
     "output_type": "stream",
     "text": [
      "97087\n",
      "121164\n",
      "179\n",
      "146\n"
     ]
    }
   ],
   "source": [
    "A_False=a_df.loc[('base_uae_14_day_trial',False), 'current_sub_TF']\n",
    "print(A_False)\n",
    "A_True=a_df.loc[('base_uae_14_day_trial',True), 'current_sub_TF']\n",
    "print(A_True)\n",
    "B_True=a_df.loc[('high_uae_14_day_trial',True), 'current_sub_TF']\n",
    "print(B_True)\n",
    "B_False=a_df.loc[('high_uae_14_day_trial',False), 'current_sub_TF']\n",
    "print(B_False)"
   ]
  },
  {
   "cell_type": "code",
   "execution_count": 10,
   "metadata": {},
   "outputs": [
    {
     "data": {
      "text/plain": [
       "0.5551589683437876"
      ]
     },
     "execution_count": 10,
     "metadata": {},
     "output_type": "execute_result"
    }
   ],
   "source": [
    "p=A_True/(A_False+A_True)\n",
    "p"
   ]
  },
  {
   "cell_type": "code",
   "execution_count": 11,
   "metadata": {},
   "outputs": [
    {
     "data": {
      "text/plain": [
       "0.5507692307692308"
      ]
     },
     "execution_count": 11,
     "metadata": {},
     "output_type": "execute_result"
    }
   ],
   "source": [
    "p_hat=B_True/(B_True+B_False)\n",
    "p_hat"
   ]
  },
  {
   "cell_type": "code",
   "execution_count": 12,
   "metadata": {},
   "outputs": [
    {
     "data": {
      "text/plain": [
       "-0.6240278579717118"
      ]
     },
     "execution_count": 12,
     "metadata": {},
     "output_type": "execute_result"
    }
   ],
   "source": [
    "import math\n",
    "z=(p_hat-p)/math.sqrt(p_hat*(1-p_hat)/5000)\n",
    "z"
   ]
  },
  {
   "cell_type": "code",
   "execution_count": 13,
   "metadata": {},
   "outputs": [
    {
     "name": "stdout",
     "output_type": "stream",
     "text": [
      "z score is -0.624028. Fail to reject the null hypothesis and conclude that Alternative B did not improve retention rates over alternative A.\n"
     ]
    }
   ],
   "source": [
    "if math.fabs(z) >=1.64:\n",
    "        print('z score is %f. Reject the null hypotheis and conclude that Alternative B improved rentention rates over alternative A.' %(z))\n",
    "else:\n",
    "        print('z score is %f. Fail to reject the null hypothesis and conclude that Alternative B did not improve retention rates over alternative A.'%(z))"
   ]
  },
  {
   "cell_type": "markdown",
   "metadata": {},
   "source": [
    "High does not improve retention over base"
   ]
  },
  {
   "cell_type": "markdown",
   "metadata": {},
   "source": [
    "# A: Base 14 trial, B: low 0 trial"
   ]
  },
  {
   "cell_type": "code",
   "execution_count": 14,
   "metadata": {},
   "outputs": [
    {
     "name": "stdout",
     "output_type": "stream",
     "text": [
      "97087\n",
      "121164\n",
      "45\n",
      "122\n"
     ]
    }
   ],
   "source": [
    "A_False=a_df.loc[('base_uae_14_day_trial',False), 'current_sub_TF']\n",
    "print(A_False)\n",
    "A_True=a_df.loc[('base_uae_14_day_trial',True), 'current_sub_TF']\n",
    "print(A_True)\n",
    "B_True=a_df.loc[('low_uae_no_trial',True), 'current_sub_TF']\n",
    "print(B_True)\n",
    "B_False=a_df.loc[('low_uae_no_trial',False), 'current_sub_TF']\n",
    "print(B_False)"
   ]
  },
  {
   "cell_type": "code",
   "execution_count": 15,
   "metadata": {},
   "outputs": [
    {
     "data": {
      "text/plain": [
       "0.5551589683437876"
      ]
     },
     "execution_count": 15,
     "metadata": {},
     "output_type": "execute_result"
    }
   ],
   "source": [
    "p=A_True/(A_False+A_True)\n",
    "p"
   ]
  },
  {
   "cell_type": "code",
   "execution_count": 16,
   "metadata": {},
   "outputs": [
    {
     "data": {
      "text/plain": [
       "0.2694610778443114"
      ]
     },
     "execution_count": 16,
     "metadata": {},
     "output_type": "execute_result"
    }
   ],
   "source": [
    "p_hat=B_True/(B_True+B_False)\n",
    "p_hat"
   ]
  },
  {
   "cell_type": "code",
   "execution_count": 17,
   "metadata": {},
   "outputs": [
    {
     "data": {
      "text/plain": [
       "-45.532587913727774"
      ]
     },
     "execution_count": 17,
     "metadata": {},
     "output_type": "execute_result"
    }
   ],
   "source": [
    "import math\n",
    "z=(p_hat-p)/math.sqrt(p_hat*(1-p_hat)/5000)\n",
    "z"
   ]
  },
  {
   "cell_type": "code",
   "execution_count": 18,
   "metadata": {},
   "outputs": [
    {
     "name": "stdout",
     "output_type": "stream",
     "text": [
      "z score is -45.532588. Reject the null hypotheis and conclude that Alternative B improved rentention rates over alternative A.\n"
     ]
    }
   ],
   "source": [
    "if math.fabs(z) >=1.64:\n",
    "        print('z score is %f. Reject the null hypotheis and conclude that Alternative B improved rentention rates over alternative A.' %(z))\n",
    "else:\n",
    "        print('z score is %f. Fail to reject the null hypothesis and conclude that Alternative B did not improve retention rates over alternative A.'%(z))"
   ]
  },
  {
   "cell_type": "code",
   "execution_count": 19,
   "metadata": {},
   "outputs": [
    {
     "name": "stdout",
     "output_type": "stream",
     "text": [
      "146\n",
      "179\n",
      "45\n",
      "122\n"
     ]
    }
   ],
   "source": [
    "A_False=a_df.loc[('high_uae_14_day_trial',False), 'current_sub_TF']\n",
    "print(A_False)\n",
    "A_True=a_df.loc[('high_uae_14_day_trial',True), 'current_sub_TF']\n",
    "print(A_True)\n",
    "B_True=a_df.loc[('low_uae_no_trial',True), 'current_sub_TF']\n",
    "print(B_True)\n",
    "B_False=a_df.loc[('low_uae_no_trial',False), 'current_sub_TF']\n",
    "print(B_False)"
   ]
  },
  {
   "cell_type": "code",
   "execution_count": 20,
   "metadata": {},
   "outputs": [
    {
     "data": {
      "text/plain": [
       "0.5507692307692308"
      ]
     },
     "execution_count": 20,
     "metadata": {},
     "output_type": "execute_result"
    }
   ],
   "source": [
    "p=A_True/(A_False+A_True)\n",
    "p"
   ]
  },
  {
   "cell_type": "code",
   "execution_count": 21,
   "metadata": {},
   "outputs": [
    {
     "data": {
      "text/plain": [
       "0.2694610778443114"
      ]
     },
     "execution_count": 21,
     "metadata": {},
     "output_type": "execute_result"
    }
   ],
   "source": [
    "p_hat=B_True/(B_True+B_False)\n",
    "p_hat"
   ]
  },
  {
   "cell_type": "code",
   "execution_count": 22,
   "metadata": {},
   "outputs": [
    {
     "data": {
      "text/plain": [
       "-44.83298137591866"
      ]
     },
     "execution_count": 22,
     "metadata": {},
     "output_type": "execute_result"
    }
   ],
   "source": [
    "import math\n",
    "z=(p_hat-p)/math.sqrt(p_hat*(1-p_hat)/5000)\n",
    "z"
   ]
  },
  {
   "cell_type": "code",
   "execution_count": null,
   "metadata": {},
   "outputs": [],
   "source": []
  }
 ],
 "metadata": {
  "kernelspec": {
   "display_name": "Python 3",
   "language": "python",
   "name": "python3"
  },
  "language_info": {
   "codemirror_mode": {
    "name": "ipython",
    "version": 3
   },
   "file_extension": ".py",
   "mimetype": "text/x-python",
   "name": "python",
   "nbconvert_exporter": "python",
   "pygments_lexer": "ipython3",
   "version": "3.8.3"
  }
 },
 "nbformat": 4,
 "nbformat_minor": 4
}
